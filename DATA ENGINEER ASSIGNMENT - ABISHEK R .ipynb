{
 "cells": [
  {
   "cell_type": "markdown",
   "id": "31b8e473",
   "metadata": {},
   "source": [
    "## Description \n",
    "Attached is a CSV file which has the following details about products from various ecommerce sites. \n",
    "● UUID (Primary Key) \n",
    "\n",
    "● Price (String) \n",
    "\n",
    "● Price_unfiltered (String) \n",
    "\n",
    "● Product Type \n",
    "\n",
    "● Category \n",
    "\n",
    "● Level 1 -> This is just a classification of a product. \n",
    "\n",
    "CSV FILE -> DOWNLOAD \n",
    "\n"
   ]
  },
  {
   "cell_type": "markdown",
   "id": "075dfdac",
   "metadata": {},
   "source": [
    "## Task: Use the database to find the following results from this data. \n",
    "\n",
    "\n"
   ]
  },
  {
   "cell_type": "code",
   "execution_count": 1,
   "id": "0dc587bf",
   "metadata": {},
   "outputs": [],
   "source": [
    "import numpy as np\n",
    "import pandas as pd\n",
    "import matplotlib.pyplot as plt\n",
    "import seaborn as sns"
   ]
  },
  {
   "cell_type": "code",
   "execution_count": 2,
   "id": "c5dc6754",
   "metadata": {},
   "outputs": [],
   "source": [
    "df = pd.read_csv(\"test/Data.csv\") # I have renamed the downloaded data as \"Data.csv\"  for convenience"
   ]
  },
  {
   "cell_type": "code",
   "execution_count": 3,
   "id": "d635d68f",
   "metadata": {},
   "outputs": [
    {
     "data": {
      "text/html": [
       "<div>\n",
       "<style scoped>\n",
       "    .dataframe tbody tr th:only-of-type {\n",
       "        vertical-align: middle;\n",
       "    }\n",
       "\n",
       "    .dataframe tbody tr th {\n",
       "        vertical-align: top;\n",
       "    }\n",
       "\n",
       "    .dataframe thead th {\n",
       "        text-align: right;\n",
       "    }\n",
       "</style>\n",
       "<table border=\"1\" class=\"dataframe\">\n",
       "  <thead>\n",
       "    <tr style=\"text-align: right;\">\n",
       "      <th></th>\n",
       "      <th>uuid</th>\n",
       "      <th>price_string</th>\n",
       "      <th>price_string_unf</th>\n",
       "      <th>product_type</th>\n",
       "      <th>level_1</th>\n",
       "      <th>category</th>\n",
       "    </tr>\n",
       "  </thead>\n",
       "  <tbody>\n",
       "    <tr>\n",
       "      <th>0</th>\n",
       "      <td>638744a4-b0ae-4166-8cb6-5c063c862036</td>\n",
       "      <td>NaN</td>\n",
       "      <td>NaN</td>\n",
       "      <td>TGFwdG9wIENvdmVycy9CYWdz</td>\n",
       "      <td>TGFwdG9wIENhc2U</td>\n",
       "      <td>RWxlY3Ryb25pY3M</td>\n",
       "    </tr>\n",
       "    <tr>\n",
       "      <th>1</th>\n",
       "      <td>ab313969-02cc-48b2-9daf-0054efb70b92</td>\n",
       "      <td>NaN</td>\n",
       "      <td>NaN</td>\n",
       "      <td>QmFraW5nIEN1cHMgYW5kIE1hdHM</td>\n",
       "      <td>QmFraW5nIE1hdHMgLyBCYWtpbmcgZGlzaA</td>\n",
       "      <td>a2l0Y2hpbmcgYW5kIGRpbmluZw</td>\n",
       "    </tr>\n",
       "    <tr>\n",
       "      <th>2</th>\n",
       "      <td>acbd66ff-79f8-467a-91f9-108a45af5626</td>\n",
       "      <td>$19.95</td>\n",
       "      <td>NaN</td>\n",
       "      <td>R3VtbWllcyB2aXRhbWlucyBhbmQgbWluZXJhbHMgZm9yIG...</td>\n",
       "      <td>SW1tdW5pdHkgZ3VtbWllcw</td>\n",
       "      <td>SGVhbHRo</td>\n",
       "    </tr>\n",
       "    <tr>\n",
       "      <th>3</th>\n",
       "      <td>963915d6-b2e3-4098-b242-9410593cf205</td>\n",
       "      <td>$92.00</td>\n",
       "      <td>NaN</td>\n",
       "      <td>U2VydW1z</td>\n",
       "      <td>RmFjZSBTZXJ1bQ</td>\n",
       "      <td>YmVhdXR5IGFuZCBwZXJzb25hbCBjYXJl</td>\n",
       "    </tr>\n",
       "    <tr>\n",
       "      <th>4</th>\n",
       "      <td>b5b68f3c-b1e0-40e5-8ee5-e2f7236c1daf</td>\n",
       "      <td>11.50</td>\n",
       "      <td>NaN</td>\n",
       "      <td>RWF0aW5nIFV0ZW5zaWxzL0N1dGxlcnk</td>\n",
       "      <td>Q2hvcHN0aWNrcw</td>\n",
       "      <td>a2l0Y2hpbmcgYW5kIGRpbmluZw</td>\n",
       "    </tr>\n",
       "    <tr>\n",
       "      <th>5</th>\n",
       "      <td>389d9f75-cc3f-4bd2-94f7-93e381a3bed5</td>\n",
       "      <td>NaN</td>\n",
       "      <td>NaN</td>\n",
       "      <td>TmF0dXJhbCBTd2VldGVuZXJzLyBTdWdhcg</td>\n",
       "      <td>TW9uayBGcnVpdA</td>\n",
       "      <td>Z3JvY2VyaWVz</td>\n",
       "    </tr>\n",
       "    <tr>\n",
       "      <th>6</th>\n",
       "      <td>9599f1a9-d406-43eb-89f5-9b1c0af1ac9a</td>\n",
       "      <td>$24.99</td>\n",
       "      <td>NaN</td>\n",
       "      <td>TW9wcyBhbmQgYnJvb21z</td>\n",
       "      <td>TW9w</td>\n",
       "      <td>SG91c2Vob2xkIGFuZCBDbGVhbmluZw</td>\n",
       "    </tr>\n",
       "    <tr>\n",
       "      <th>7</th>\n",
       "      <td>35799087-f6f4-4ca2-abfe-cbb5c27d2f1a</td>\n",
       "      <td>$148.00</td>\n",
       "      <td>NaN</td>\n",
       "      <td>V29tZW5zIFBhbnRz</td>\n",
       "      <td>V29tZW5zIFJlZ3VsYXIvQ2FzdWFsIFBhbnRz</td>\n",
       "      <td>Q2xvdGhpbmcgYW5kIEFjY2Vzc29yaWVz</td>\n",
       "    </tr>\n",
       "    <tr>\n",
       "      <th>8</th>\n",
       "      <td>9b3f553e-ee4c-4e1c-822e-c8c6c1b7f02a</td>\n",
       "      <td>$89</td>\n",
       "      <td>NaN</td>\n",
       "      <td>V29tZW5zIFBhbnRz</td>\n",
       "      <td>V29tZW5zIFRpZ2h0cw</td>\n",
       "      <td>Q2xvdGhpbmcgYW5kIEFjY2Vzc29yaWVz</td>\n",
       "    </tr>\n",
       "    <tr>\n",
       "      <th>9</th>\n",
       "      <td>6871b427-3c2c-4b3d-a304-c0a9f924439d</td>\n",
       "      <td>$14.95</td>\n",
       "      <td>NaN</td>\n",
       "      <td>Um9sbGluZyBQaW4</td>\n",
       "      <td>UGxheSBEb3VnaCBSb2xsaW5nIFBpbg</td>\n",
       "      <td>VG95cyBhbmQgR2FtZXM</td>\n",
       "    </tr>\n",
       "  </tbody>\n",
       "</table>\n",
       "</div>"
      ],
      "text/plain": [
       "                                   uuid price_string price_string_unf  \\\n",
       "0  638744a4-b0ae-4166-8cb6-5c063c862036          NaN              NaN   \n",
       "1  ab313969-02cc-48b2-9daf-0054efb70b92          NaN              NaN   \n",
       "2  acbd66ff-79f8-467a-91f9-108a45af5626       $19.95              NaN   \n",
       "3  963915d6-b2e3-4098-b242-9410593cf205       $92.00              NaN   \n",
       "4  b5b68f3c-b1e0-40e5-8ee5-e2f7236c1daf        11.50              NaN   \n",
       "5  389d9f75-cc3f-4bd2-94f7-93e381a3bed5          NaN              NaN   \n",
       "6  9599f1a9-d406-43eb-89f5-9b1c0af1ac9a       $24.99              NaN   \n",
       "7  35799087-f6f4-4ca2-abfe-cbb5c27d2f1a      $148.00              NaN   \n",
       "8  9b3f553e-ee4c-4e1c-822e-c8c6c1b7f02a          $89              NaN   \n",
       "9  6871b427-3c2c-4b3d-a304-c0a9f924439d       $14.95              NaN   \n",
       "\n",
       "                                        product_type  \\\n",
       "0                           TGFwdG9wIENvdmVycy9CYWdz   \n",
       "1                        QmFraW5nIEN1cHMgYW5kIE1hdHM   \n",
       "2  R3VtbWllcyB2aXRhbWlucyBhbmQgbWluZXJhbHMgZm9yIG...   \n",
       "3                                           U2VydW1z   \n",
       "4                    RWF0aW5nIFV0ZW5zaWxzL0N1dGxlcnk   \n",
       "5                 TmF0dXJhbCBTd2VldGVuZXJzLyBTdWdhcg   \n",
       "6                               TW9wcyBhbmQgYnJvb21z   \n",
       "7                                   V29tZW5zIFBhbnRz   \n",
       "8                                   V29tZW5zIFBhbnRz   \n",
       "9                                    Um9sbGluZyBQaW4   \n",
       "\n",
       "                                level_1                          category  \n",
       "0                       TGFwdG9wIENhc2U                   RWxlY3Ryb25pY3M  \n",
       "1    QmFraW5nIE1hdHMgLyBCYWtpbmcgZGlzaA        a2l0Y2hpbmcgYW5kIGRpbmluZw  \n",
       "2                SW1tdW5pdHkgZ3VtbWllcw                          SGVhbHRo  \n",
       "3                        RmFjZSBTZXJ1bQ  YmVhdXR5IGFuZCBwZXJzb25hbCBjYXJl  \n",
       "4                        Q2hvcHN0aWNrcw        a2l0Y2hpbmcgYW5kIGRpbmluZw  \n",
       "5                        TW9uayBGcnVpdA                      Z3JvY2VyaWVz  \n",
       "6                                  TW9w    SG91c2Vob2xkIGFuZCBDbGVhbmluZw  \n",
       "7  V29tZW5zIFJlZ3VsYXIvQ2FzdWFsIFBhbnRz  Q2xvdGhpbmcgYW5kIEFjY2Vzc29yaWVz  \n",
       "8                    V29tZW5zIFRpZ2h0cw  Q2xvdGhpbmcgYW5kIEFjY2Vzc29yaWVz  \n",
       "9        UGxheSBEb3VnaCBSb2xsaW5nIFBpbg               VG95cyBhbmQgR2FtZXM  "
      ]
     },
     "execution_count": 3,
     "metadata": {},
     "output_type": "execute_result"
    }
   ],
   "source": [
    "df.head(10)"
   ]
  },
  {
   "cell_type": "code",
   "execution_count": 4,
   "id": "3b33a474",
   "metadata": {},
   "outputs": [
    {
     "data": {
      "text/plain": [
       "(13730000, 6)"
      ]
     },
     "execution_count": 4,
     "metadata": {},
     "output_type": "execute_result"
    }
   ],
   "source": [
    "df.shape"
   ]
  },
  {
   "cell_type": "code",
   "execution_count": 5,
   "id": "0b68c84e",
   "metadata": {},
   "outputs": [
    {
     "name": "stdout",
     "output_type": "stream",
     "text": [
      "<class 'pandas.core.frame.DataFrame'>\n",
      "RangeIndex: 13730000 entries, 0 to 13729999\n",
      "Data columns (total 6 columns):\n",
      " #   Column            Dtype \n",
      "---  ------            ----- \n",
      " 0   uuid              object\n",
      " 1   price_string      object\n",
      " 2   price_string_unf  object\n",
      " 3   product_type      object\n",
      " 4   level_1           object\n",
      " 5   category          object\n",
      "dtypes: object(6)\n",
      "memory usage: 628.5+ MB\n"
     ]
    }
   ],
   "source": [
    "df.info()"
   ]
  },
  {
   "cell_type": "code",
   "execution_count": 6,
   "id": "38506f67",
   "metadata": {},
   "outputs": [
    {
     "data": {
      "text/html": [
       "<div>\n",
       "<style scoped>\n",
       "    .dataframe tbody tr th:only-of-type {\n",
       "        vertical-align: middle;\n",
       "    }\n",
       "\n",
       "    .dataframe tbody tr th {\n",
       "        vertical-align: top;\n",
       "    }\n",
       "\n",
       "    .dataframe thead th {\n",
       "        text-align: right;\n",
       "    }\n",
       "</style>\n",
       "<table border=\"1\" class=\"dataframe\">\n",
       "  <thead>\n",
       "    <tr style=\"text-align: right;\">\n",
       "      <th></th>\n",
       "      <th>uuid</th>\n",
       "      <th>price_string</th>\n",
       "      <th>price_string_unf</th>\n",
       "      <th>product_type</th>\n",
       "      <th>level_1</th>\n",
       "      <th>category</th>\n",
       "    </tr>\n",
       "  </thead>\n",
       "  <tbody>\n",
       "    <tr>\n",
       "      <th>count</th>\n",
       "      <td>13730000</td>\n",
       "      <td>5510000</td>\n",
       "      <td>310000</td>\n",
       "      <td>13720000</td>\n",
       "      <td>13680000</td>\n",
       "      <td>13720000</td>\n",
       "    </tr>\n",
       "    <tr>\n",
       "      <th>unique</th>\n",
       "      <td>1373</td>\n",
       "      <td>248</td>\n",
       "      <td>26</td>\n",
       "      <td>321</td>\n",
       "      <td>595</td>\n",
       "      <td>13</td>\n",
       "    </tr>\n",
       "    <tr>\n",
       "      <th>top</th>\n",
       "      <td>638744a4-b0ae-4166-8cb6-5c063c862036</td>\n",
       "      <td>$0.00</td>\n",
       "      <td>$6.75</td>\n",
       "      <td>U2NydWJzIGFuZCBjbGVhbmluZyBjbG90aHM</td>\n",
       "      <td>U3dlYXRzaGlydA</td>\n",
       "      <td>Q2xvdGhpbmcgYW5kIEFjY2Vzc29yaWVz</td>\n",
       "    </tr>\n",
       "    <tr>\n",
       "      <th>freq</th>\n",
       "      <td>10000</td>\n",
       "      <td>240000</td>\n",
       "      <td>30000</td>\n",
       "      <td>200000</td>\n",
       "      <td>90000</td>\n",
       "      <td>3910000</td>\n",
       "    </tr>\n",
       "  </tbody>\n",
       "</table>\n",
       "</div>"
      ],
      "text/plain": [
       "                                        uuid price_string price_string_unf  \\\n",
       "count                               13730000      5510000           310000   \n",
       "unique                                  1373          248               26   \n",
       "top     638744a4-b0ae-4166-8cb6-5c063c862036        $0.00            $6.75   \n",
       "freq                                   10000       240000            30000   \n",
       "\n",
       "                               product_type         level_1  \\\n",
       "count                              13720000        13680000   \n",
       "unique                                  321             595   \n",
       "top     U2NydWJzIGFuZCBjbGVhbmluZyBjbG90aHM  U3dlYXRzaGlydA   \n",
       "freq                                 200000           90000   \n",
       "\n",
       "                                category  \n",
       "count                           13720000  \n",
       "unique                                13  \n",
       "top     Q2xvdGhpbmcgYW5kIEFjY2Vzc29yaWVz  \n",
       "freq                             3910000  "
      ]
     },
     "execution_count": 6,
     "metadata": {},
     "output_type": "execute_result"
    }
   ],
   "source": [
    "df.describe()"
   ]
  },
  {
   "cell_type": "code",
   "execution_count": 7,
   "id": "41aa5bb5",
   "metadata": {},
   "outputs": [
    {
     "name": "stdout",
     "output_type": "stream",
     "text": [
      "Index(['uuid', 'price_string', 'price_string_unf', 'product_type', 'level_1',\n",
      "       'category'],\n",
      "      dtype='object')\n"
     ]
    }
   ],
   "source": [
    "print(df.columns)"
   ]
  },
  {
   "cell_type": "markdown",
   "id": "478b68a1",
   "metadata": {},
   "source": [
    "## 1. Products without prices \n"
   ]
  },
  {
   "cell_type": "code",
   "execution_count": 8,
   "id": "384f775b",
   "metadata": {},
   "outputs": [
    {
     "data": {
      "text/plain": [
       "8220000"
      ]
     },
     "execution_count": 8,
     "metadata": {},
     "output_type": "execute_result"
    }
   ],
   "source": [
    "df[\"price_string\"].isna().sum()"
   ]
  },
  {
   "cell_type": "code",
   "execution_count": 9,
   "id": "42eed87c",
   "metadata": {
    "scrolled": true
   },
   "outputs": [
    {
     "data": {
      "text/html": [
       "<div>\n",
       "<style scoped>\n",
       "    .dataframe tbody tr th:only-of-type {\n",
       "        vertical-align: middle;\n",
       "    }\n",
       "\n",
       "    .dataframe tbody tr th {\n",
       "        vertical-align: top;\n",
       "    }\n",
       "\n",
       "    .dataframe thead th {\n",
       "        text-align: right;\n",
       "    }\n",
       "</style>\n",
       "<table border=\"1\" class=\"dataframe\">\n",
       "  <thead>\n",
       "    <tr style=\"text-align: right;\">\n",
       "      <th></th>\n",
       "      <th>uuid</th>\n",
       "      <th>price_string</th>\n",
       "      <th>price_string_unf</th>\n",
       "      <th>product_type</th>\n",
       "      <th>level_1</th>\n",
       "      <th>category</th>\n",
       "    </tr>\n",
       "  </thead>\n",
       "  <tbody>\n",
       "    <tr>\n",
       "      <th>0</th>\n",
       "      <td>638744a4-b0ae-4166-8cb6-5c063c862036</td>\n",
       "      <td>NaN</td>\n",
       "      <td>NaN</td>\n",
       "      <td>TGFwdG9wIENvdmVycy9CYWdz</td>\n",
       "      <td>TGFwdG9wIENhc2U</td>\n",
       "      <td>RWxlY3Ryb25pY3M</td>\n",
       "    </tr>\n",
       "    <tr>\n",
       "      <th>1</th>\n",
       "      <td>ab313969-02cc-48b2-9daf-0054efb70b92</td>\n",
       "      <td>NaN</td>\n",
       "      <td>NaN</td>\n",
       "      <td>QmFraW5nIEN1cHMgYW5kIE1hdHM</td>\n",
       "      <td>QmFraW5nIE1hdHMgLyBCYWtpbmcgZGlzaA</td>\n",
       "      <td>a2l0Y2hpbmcgYW5kIGRpbmluZw</td>\n",
       "    </tr>\n",
       "    <tr>\n",
       "      <th>5</th>\n",
       "      <td>389d9f75-cc3f-4bd2-94f7-93e381a3bed5</td>\n",
       "      <td>NaN</td>\n",
       "      <td>NaN</td>\n",
       "      <td>TmF0dXJhbCBTd2VldGVuZXJzLyBTdWdhcg</td>\n",
       "      <td>TW9uayBGcnVpdA</td>\n",
       "      <td>Z3JvY2VyaWVz</td>\n",
       "    </tr>\n",
       "    <tr>\n",
       "      <th>13</th>\n",
       "      <td>1f2766ec-0a27-43f8-b28b-77a44492ead1</td>\n",
       "      <td>NaN</td>\n",
       "      <td>NaN</td>\n",
       "      <td>U2NydWJzIGFuZCBjbGVhbmluZyBjbG90aHM</td>\n",
       "      <td>U2NydWJz</td>\n",
       "      <td>SG91c2Vob2xkIGFuZCBDbGVhbmluZw</td>\n",
       "    </tr>\n",
       "    <tr>\n",
       "      <th>16</th>\n",
       "      <td>7bad39f5-74b9-4611-afb9-46fb135190cd</td>\n",
       "      <td>NaN</td>\n",
       "      <td>NaN</td>\n",
       "      <td>UGx1cyBzaXplIHdlYXIgZHJlc3M</td>\n",
       "      <td>RHJlc3M</td>\n",
       "      <td>Q2xvdGhpbmcgYW5kIEFjY2Vzc29yaWVz</td>\n",
       "    </tr>\n",
       "    <tr>\n",
       "      <th>...</th>\n",
       "      <td>...</td>\n",
       "      <td>...</td>\n",
       "      <td>...</td>\n",
       "      <td>...</td>\n",
       "      <td>...</td>\n",
       "      <td>...</td>\n",
       "    </tr>\n",
       "    <tr>\n",
       "      <th>13729992</th>\n",
       "      <td>8d763911-79b7-402d-8964-6bfe89692c66</td>\n",
       "      <td>NaN</td>\n",
       "      <td>NaN</td>\n",
       "      <td>TWVucyB3b3Jrd2Vhci8gb2ZmaWNlIHdlYXI</td>\n",
       "      <td>U2hpcnRz</td>\n",
       "      <td>Q2xvdGhpbmcgYW5kIEFjY2Vzc29yaWVz</td>\n",
       "    </tr>\n",
       "    <tr>\n",
       "      <th>13729993</th>\n",
       "      <td>2dc182aa-d591-49e4-85d1-5c4a60a09664</td>\n",
       "      <td>NaN</td>\n",
       "      <td>NaN</td>\n",
       "      <td>U3BpY2Vz</td>\n",
       "      <td>UGVwcGVy</td>\n",
       "      <td>Z3JvY2VyaWVz</td>\n",
       "    </tr>\n",
       "    <tr>\n",
       "      <th>13729995</th>\n",
       "      <td>2a13338e-9268-4f7b-9e7c-b8c41c72971b</td>\n",
       "      <td>NaN</td>\n",
       "      <td>NaN</td>\n",
       "      <td>RHJlc3Nlcw</td>\n",
       "      <td>TWF4aSBkcmVzcw</td>\n",
       "      <td>Q2xvdGhpbmcgYW5kIEFjY2Vzc29yaWVz</td>\n",
       "    </tr>\n",
       "    <tr>\n",
       "      <th>13729997</th>\n",
       "      <td>679f073a-862a-4e43-b5ce-41e45afd3bfa</td>\n",
       "      <td>NaN</td>\n",
       "      <td>NaN</td>\n",
       "      <td>UGV0IEZvb2Q</td>\n",
       "      <td>RHJ5IERvZyBGb29k</td>\n",
       "      <td>cGV0IHN1cHBsaWVz</td>\n",
       "    </tr>\n",
       "    <tr>\n",
       "      <th>13729998</th>\n",
       "      <td>25677eee-c26b-4abf-bd10-ca77a800ba26</td>\n",
       "      <td>NaN</td>\n",
       "      <td>NaN</td>\n",
       "      <td>U2F1Y2U</td>\n",
       "      <td>QkJRIFNhdWNl</td>\n",
       "      <td>Z3JvY2VyaWVz</td>\n",
       "    </tr>\n",
       "  </tbody>\n",
       "</table>\n",
       "<p>8220000 rows × 6 columns</p>\n",
       "</div>"
      ],
      "text/plain": [
       "                                          uuid price_string price_string_unf  \\\n",
       "0         638744a4-b0ae-4166-8cb6-5c063c862036          NaN              NaN   \n",
       "1         ab313969-02cc-48b2-9daf-0054efb70b92          NaN              NaN   \n",
       "5         389d9f75-cc3f-4bd2-94f7-93e381a3bed5          NaN              NaN   \n",
       "13        1f2766ec-0a27-43f8-b28b-77a44492ead1          NaN              NaN   \n",
       "16        7bad39f5-74b9-4611-afb9-46fb135190cd          NaN              NaN   \n",
       "...                                        ...          ...              ...   \n",
       "13729992  8d763911-79b7-402d-8964-6bfe89692c66          NaN              NaN   \n",
       "13729993  2dc182aa-d591-49e4-85d1-5c4a60a09664          NaN              NaN   \n",
       "13729995  2a13338e-9268-4f7b-9e7c-b8c41c72971b          NaN              NaN   \n",
       "13729997  679f073a-862a-4e43-b5ce-41e45afd3bfa          NaN              NaN   \n",
       "13729998  25677eee-c26b-4abf-bd10-ca77a800ba26          NaN              NaN   \n",
       "\n",
       "                                 product_type  \\\n",
       "0                    TGFwdG9wIENvdmVycy9CYWdz   \n",
       "1                 QmFraW5nIEN1cHMgYW5kIE1hdHM   \n",
       "5          TmF0dXJhbCBTd2VldGVuZXJzLyBTdWdhcg   \n",
       "13        U2NydWJzIGFuZCBjbGVhbmluZyBjbG90aHM   \n",
       "16                UGx1cyBzaXplIHdlYXIgZHJlc3M   \n",
       "...                                       ...   \n",
       "13729992  TWVucyB3b3Jrd2Vhci8gb2ZmaWNlIHdlYXI   \n",
       "13729993                             U3BpY2Vz   \n",
       "13729995                           RHJlc3Nlcw   \n",
       "13729997                          UGV0IEZvb2Q   \n",
       "13729998                              U2F1Y2U   \n",
       "\n",
       "                                     level_1                          category  \n",
       "0                            TGFwdG9wIENhc2U                   RWxlY3Ryb25pY3M  \n",
       "1         QmFraW5nIE1hdHMgLyBCYWtpbmcgZGlzaA        a2l0Y2hpbmcgYW5kIGRpbmluZw  \n",
       "5                             TW9uayBGcnVpdA                      Z3JvY2VyaWVz  \n",
       "13                                  U2NydWJz    SG91c2Vob2xkIGFuZCBDbGVhbmluZw  \n",
       "16                                   RHJlc3M  Q2xvdGhpbmcgYW5kIEFjY2Vzc29yaWVz  \n",
       "...                                      ...                               ...  \n",
       "13729992                            U2hpcnRz  Q2xvdGhpbmcgYW5kIEFjY2Vzc29yaWVz  \n",
       "13729993                            UGVwcGVy                      Z3JvY2VyaWVz  \n",
       "13729995                      TWF4aSBkcmVzcw  Q2xvdGhpbmcgYW5kIEFjY2Vzc29yaWVz  \n",
       "13729997                    RHJ5IERvZyBGb29k                  cGV0IHN1cHBsaWVz  \n",
       "13729998                        QkJRIFNhdWNl                      Z3JvY2VyaWVz  \n",
       "\n",
       "[8220000 rows x 6 columns]"
      ]
     },
     "execution_count": 9,
     "metadata": {},
     "output_type": "execute_result"
    }
   ],
   "source": [
    "df[df['price_string'].isna()]"
   ]
  },
  {
   "cell_type": "code",
   "execution_count": 10,
   "id": "b0530e76",
   "metadata": {},
   "outputs": [],
   "source": [
    "#These are the products without prices"
   ]
  },
  {
   "cell_type": "markdown",
   "id": "be12bfa2",
   "metadata": {},
   "source": [
    "## 2.Count of products without prices and with prices in each Product Type, Category, Level 1 \n"
   ]
  },
  {
   "cell_type": "code",
   "execution_count": 11,
   "id": "e5d3d9a9",
   "metadata": {},
   "outputs": [
    {
     "data": {
      "text/plain": [
       "321"
      ]
     },
     "execution_count": 11,
     "metadata": {},
     "output_type": "execute_result"
    }
   ],
   "source": [
    "df['product_type'].nunique()"
   ]
  },
  {
   "cell_type": "code",
   "execution_count": 12,
   "id": "4a39d934",
   "metadata": {},
   "outputs": [
    {
     "data": {
      "text/plain": [
       "13"
      ]
     },
     "execution_count": 12,
     "metadata": {},
     "output_type": "execute_result"
    }
   ],
   "source": [
    "df['category'].nunique()"
   ]
  },
  {
   "cell_type": "code",
   "execution_count": 23,
   "id": "b1209cff",
   "metadata": {},
   "outputs": [],
   "source": [
    "df['price'] = np.where(df['price_string'].isnull(), 0, 1)"
   ]
  },
  {
   "cell_type": "code",
   "execution_count": 24,
   "id": "41cd504f",
   "metadata": {},
   "outputs": [
    {
     "data": {
      "text/plain": [
       "0    0\n",
       "1    0\n",
       "2    1\n",
       "3    1\n",
       "4    1\n",
       "Name: price, dtype: int32"
      ]
     },
     "execution_count": 24,
     "metadata": {},
     "output_type": "execute_result"
    }
   ],
   "source": [
    "df['price'].head()"
   ]
  },
  {
   "cell_type": "code",
   "execution_count": 25,
   "id": "c5031a8b",
   "metadata": {},
   "outputs": [],
   "source": [
    "df2=df.groupby([\"product_type\",\"price\"])[\"price\"].count()"
   ]
  },
  {
   "cell_type": "code",
   "execution_count": 26,
   "id": "a27cc067",
   "metadata": {},
   "outputs": [
    {
     "data": {
      "text/plain": [
       "product_type            price\n",
       "Q0FUIExJVFRFUg          0        30000\n",
       "Q29mZmVlIEJlYW5z        0        50000\n",
       "                        1        30000\n",
       "Q29mZmVlIEZpbHRlcnM     0        10000\n",
       "Q29uZGl0aW9uZXIgSGFpcg  0        20000\n",
       "Name: price, dtype: int64"
      ]
     },
     "execution_count": 26,
     "metadata": {},
     "output_type": "execute_result"
    }
   ],
   "source": [
    "df2.head()"
   ]
  },
  {
   "cell_type": "code",
   "execution_count": null,
   "id": "a86c4183",
   "metadata": {},
   "outputs": [],
   "source": [
    "# 0 depicts no price \n",
    "# 1 depicts with price "
   ]
  },
  {
   "cell_type": "code",
   "execution_count": 31,
   "id": "e25702ff",
   "metadata": {},
   "outputs": [
    {
     "data": {
      "text/plain": [
       "category                          price\n",
       "Q2xvdGhpbmcgYW5kIEFjY2Vzc29yaWVz  0        2050000\n",
       "                                  1        1860000\n",
       "QXJ0IHN1cHBsaWVz                  0         130000\n",
       "                                  1         190000\n",
       "QmFieWNhcmU                       0         570000\n",
       "                                  1          90000\n",
       "RWxlY3Ryb25pY3M                   0         210000\n",
       "                                  1         110000\n",
       "SG91c2Vob2xkIGFuZCBDbGVhbmluZw    0         870000\n",
       "                                  1         700000\n",
       "Name: price, dtype: int64"
      ]
     },
     "execution_count": 31,
     "metadata": {},
     "output_type": "execute_result"
    }
   ],
   "source": [
    "df3=df.groupby([\"category\",\"price\"])[\"price\"].count()\n",
    "df3.head(10)"
   ]
  },
  {
   "cell_type": "code",
   "execution_count": 32,
   "id": "38f59fa9",
   "metadata": {},
   "outputs": [
    {
     "data": {
      "text/plain": [
       "level_1           price\n",
       "MTAgQ3Vw          1        10000\n",
       "MjAgQ3Vw          1        10000\n",
       "MjAgUGludHM       0        20000\n",
       "                  1        10000\n",
       "MzAgQ3Vw          1        10000\n",
       "MzAtIDM1IFBpbnRz  0        10000\n",
       "                  1        10000\n",
       "NSBHYWxsb24       1        10000\n",
       "NTAgUGludHM       0        20000\n",
       "                  1        10000\n",
       "Name: price, dtype: int64"
      ]
     },
     "execution_count": 32,
     "metadata": {},
     "output_type": "execute_result"
    }
   ],
   "source": [
    "df4=df.groupby([\"level_1\",\"price\"])[\"price\"].count()\n",
    "df4.head(10)"
   ]
  },
  {
   "cell_type": "code",
   "execution_count": null,
   "id": "465ae591",
   "metadata": {},
   "outputs": [],
   "source": []
  },
  {
   "cell_type": "code",
   "execution_count": null,
   "id": "43703f9c",
   "metadata": {},
   "outputs": [],
   "source": []
  },
  {
   "cell_type": "markdown",
   "id": "1464b883",
   "metadata": {},
   "source": [
    "## 3. Correct Product Prices in the correct format (eg: $56) wherever possible and separate them into currency and value columns. \n"
   ]
  },
  {
   "cell_type": "code",
   "execution_count": 33,
   "id": "16e80608",
   "metadata": {},
   "outputs": [],
   "source": [
    "def clean_currency(x):\n",
    "    \"\"\" If the value is a string, then remove currency symbol and delimiters\n",
    "    otherwise, the value is numeric and can be converted\n",
    "    \"\"\"\n",
    "    if isinstance(x, str):\n",
    "        return(x.replace('$', '').replace(',', ''))\n",
    "    return(x)"
   ]
  },
  {
   "cell_type": "code",
   "execution_count": 35,
   "id": "9e9b891a",
   "metadata": {},
   "outputs": [],
   "source": [
    "df['P'] = df['price_string'].apply(clean_currency).astype('float')\n",
    "df['P_type'] = df['P'].apply(lambda x: type(x).__name__)"
   ]
  },
  {
   "cell_type": "code",
   "execution_count": 38,
   "id": "c5843d02",
   "metadata": {},
   "outputs": [
    {
     "data": {
      "text/plain": [
       "0       NaN\n",
       "1       NaN\n",
       "2     19.95\n",
       "3     92.00\n",
       "4     11.50\n",
       "5       NaN\n",
       "6     24.99\n",
       "7    148.00\n",
       "8     89.00\n",
       "9     14.95\n",
       "Name: P, dtype: float64"
      ]
     },
     "execution_count": 38,
     "metadata": {},
     "output_type": "execute_result"
    }
   ],
   "source": [
    "df['P'].head(10)"
   ]
  },
  {
   "cell_type": "code",
   "execution_count": 39,
   "id": "ec678bd5",
   "metadata": {},
   "outputs": [
    {
     "data": {
      "text/plain": [
       "0           float\n",
       "1           float\n",
       "2           float\n",
       "3           float\n",
       "4           float\n",
       "            ...  \n",
       "13729995    float\n",
       "13729996    float\n",
       "13729997    float\n",
       "13729998    float\n",
       "13729999    float\n",
       "Name: P_type, Length: 13730000, dtype: object"
      ]
     },
     "execution_count": 39,
     "metadata": {},
     "output_type": "execute_result"
    }
   ],
   "source": [
    "df['P_type']"
   ]
  },
  {
   "cell_type": "markdown",
   "id": "66325657",
   "metadata": {},
   "source": [
    "## 4. List out the categories with average price of product. "
   ]
  },
  {
   "cell_type": "code",
   "execution_count": 40,
   "id": "9858dfb7",
   "metadata": {},
   "outputs": [],
   "source": [
    "df5=df.groupby(['category'])['P'].mean()"
   ]
  },
  {
   "cell_type": "code",
   "execution_count": 41,
   "id": "ff435c16",
   "metadata": {},
   "outputs": [
    {
     "data": {
      "text/plain": [
       "category\n",
       "Q2xvdGhpbmcgYW5kIEFjY2Vzc29yaWVz       125.413871\n",
       "QXJ0IHN1cHBsaWVz                        19.471053\n",
       "QmFieWNhcmU                            163.688889\n",
       "RWxlY3Ryb25pY3M                         60.258182\n",
       "SG91c2Vob2xkIGFuZCBDbGVhbmluZw          76.199000\n",
       "SGVhbHRo                                32.557586\n",
       "VG95cyBhbmQgR2FtZXM                     32.448947\n",
       "VG9vbHMgYW5kIGhvbWUgaW1wcm92ZW1lbnQ     82.223500\n",
       "YmVhdXR5IGFuZCBwZXJzb25hbCBjYXJl        34.745067\n",
       "Z3JvY2VyaWVz                            10.541667\n",
       "a2l0Y2hpbmcgYW5kIGRpbmluZw              16.703235\n",
       "b2ZmaWNlIHByb2R1Y3Rz                    20.480000\n",
       "cGV0IHN1cHBsaWVz                        14.181875\n",
       "Name: P, dtype: float64"
      ]
     },
     "execution_count": 41,
     "metadata": {},
     "output_type": "execute_result"
    }
   ],
   "source": [
    "df5"
   ]
  },
  {
   "cell_type": "code",
   "execution_count": null,
   "id": "06de32e5",
   "metadata": {},
   "outputs": [],
   "source": []
  },
  {
   "cell_type": "code",
   "execution_count": null,
   "id": "a701de65",
   "metadata": {},
   "outputs": [],
   "source": []
  }
 ],
 "metadata": {
  "kernelspec": {
   "display_name": "Python 3 (ipykernel)",
   "language": "python",
   "name": "python3"
  },
  "language_info": {
   "codemirror_mode": {
    "name": "ipython",
    "version": 3
   },
   "file_extension": ".py",
   "mimetype": "text/x-python",
   "name": "python",
   "nbconvert_exporter": "python",
   "pygments_lexer": "ipython3",
   "version": "3.9.12"
  }
 },
 "nbformat": 4,
 "nbformat_minor": 5
}
